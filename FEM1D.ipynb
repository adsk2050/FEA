{
  "nbformat": 4,
  "nbformat_minor": 0,
  "metadata": {
    "colab": {
      "name": "FEM1D",
      "provenance": [],
      "include_colab_link": true
    },
    "kernelspec": {
      "name": "python3",
      "display_name": "Python 3"
    }
  },
  "cells": [
    {
      "cell_type": "markdown",
      "metadata": {
        "id": "view-in-github",
        "colab_type": "text"
      },
      "source": [
        "<a href=\"https://colab.research.google.com/github/adsk2050/btp-iitg/blob/master/FEM1D.ipynb\" target=\"_parent\"><img src=\"https://colab.research.google.com/assets/colab-badge.svg\" alt=\"Open In Colab\"/></a>"
      ]
    },
    {
      "cell_type": "markdown",
      "metadata": {
        "id": "aItEFCR7AmrH",
        "colab_type": "text"
      },
      "source": [
        "Young's modulus varies in each element, following a normal distribution with mean mu and standard deviation sigma\n",
        "\n",
        "\n"
      ]
    },
    {
      "cell_type": "code",
      "metadata": {
        "id": "G7dt1mhBN5gz",
        "colab_type": "code",
        "outputId": "8243e876-b074-4131-ec18-6e547f4ffb84",
        "colab": {
          "base_uri": "https://localhost:8080/",
          "height": 299
        }
      },
      "source": [
        "import numpy as np\n",
        "import scipy as sp\n",
        "from scipy.stats import norm\n",
        "import matplotlib as mpl\n",
        "import matplotlib.pyplot as plt\n",
        "import math\n",
        "\n",
        "length = 1000\n",
        "no_elements = 10\n",
        "force = 1\n",
        "# parameters for AE/L function###########\n",
        "mu, sigma = 1000000000, 100000000 # mean and standard deviation\n",
        "A=0.0001\n",
        "L=length\n",
        "E = np.random.normal(mu, sigma, no_elements+1)\n",
        "#########################################\n",
        "x = np.arange(0, length, length/no_elements)\n",
        "x = np.insert(x, no_elements, length)\n",
        "\n",
        "def AE(x):\n",
        "    return A*E[x]/L\n",
        "\n",
        "def _AE(x):\n",
        "    # return 100.0\n",
        "    x=int(np.floor(x/(L/no_elements)))\n",
        "    return A*E[x]/L\n",
        "\n",
        "AEe = np.vectorize(_AE)\n",
        "# print(AEe(x))\n",
        "# print(AE(range(0, no_elements+1)))\n",
        "\n",
        "def _1DFEM(length, no_elements, force):\n",
        "    k_global = np.zeros((no_elements+1, no_elements+1))\n",
        "    for i in range(0, no_elements):\n",
        "        k_local = (AE(i)/(length/no_elements))*np.array([[1, -1],[-1, 1]])\n",
        "        k_global[i:i+2,i:i+2]+=k_local\n",
        "        # as u0=0, we remove 0th row and column while calculation\n",
        "    f_global = np.zeros((no_elements+1,1))\n",
        "    f_global[no_elements, 0] = force\n",
        "    u_global = np.zeros((no_elements+1, 1))\n",
        "    u_global[1:, 0] = np.linalg.solve(k_global[1:, 1:],f_global[1:, 0])\n",
        "    f_global = k_global*u_global\n",
        "    return u_global[0:, 0]\n",
        "\n",
        "def Exact(length, force, x):\n",
        "    if(x.any()<=length):\n",
        "        return force*x/AEe(x)\n",
        "    else:\n",
        "        return x*0\n",
        "\n",
        "fem = _1DFEM(length, no_elements, force)\n",
        "exact = Exact(length, force, x)\n",
        "plt.plot(x, fem, 'ro-')\n",
        "plt.plot(x, exact, 'b-')\n",
        "fem_a = fem[-1]\n",
        "exact_a = exact[-1]\n",
        "# print(fem)\n",
        "# print(exact)\n",
        "print(\"fem: \", fem_a, \"exact: \", exact_a)\n",
        "print(\"error: \", (abs(fem_a-exact_a)/exact_a)*100, \"%\")"
      ],
      "execution_count": 0,
      "outputs": [
        {
          "output_type": "stream",
          "text": [
            "fem:  9.392899923203267 exact:  10.115556366017707\n",
            "error:  7.144010835055388 %\n"
          ],
          "name": "stdout"
        },
        {
          "output_type": "display_data",
          "data": {
            "image/png": "[encoded data removed]",
            "text/plain": [
              "<Figure size 432x288 with 1 Axes>"
            ]
          },
          "metadata": {
            "tags": []
          }
        }
      ]
    },
    {
      "cell_type": "markdown",
      "metadata": {
        "id": "y_LNuC5qBBQW",
        "colab_type": "text"
      },
      "source": [
        "Here we will vary the young's modulus for each batch. Here also, it follows a normal distribution with mean mu and standard deviation sigma\n",
        "\n"
      ]
    },
    {
      "cell_type": "code",
      "metadata": {
        "id": "IwdNV8ghBEYr",
        "colab_type": "code",
        "colab": {}
      },
      "source": [
        "from google.colab import files\n",
        "\n",
        "import numpy as np\n",
        "import scipy as sp\n",
        "import pandas as pd\n",
        "from scipy.stats import norm\n",
        "import matplotlib as mpl\n",
        "import matplotlib.pyplot as plt\n",
        "import math\n",
        "import csv\n",
        "\n",
        "batch_size=1000\n",
        "mu, sigma = 1000000000, 100000000 # mean and standard deviation\n",
        "\n",
        "class beam():\n",
        "    length = 10\n",
        "    no_elements = 10\n",
        "    force = 1\n",
        "    # parameters for AE/L function###########\n",
        "    A=0.0001\n",
        "    L=length\n",
        "    # E = 1000000000\n",
        "    #########################################\n",
        "    x = np.arange(0, length, length/no_elements)\n",
        "    x = np.insert(x, no_elements, length)\n",
        "\n",
        "    def set_E(self, Ei):\n",
        "        self.E = Ei\n",
        "\n",
        "    def AE(self):\n",
        "        return self.A*self.E\n",
        "\n",
        "    def _1DFEM(self, length, no_elements, force):\n",
        "        k_global = np.zeros((no_elements+1, no_elements+1))\n",
        "        for i in range(0, no_elements):\n",
        "            k_local = (self.AE()/(self.L/no_elements))*np.array([[1, -1],[-1, 1]])\n",
        "            k_global[i:i+2,i:i+2]+=k_local\n",
        "            # as u0=0, we remove 0th row and column while calculation\n",
        "        f_global = np.zeros((no_elements+1,1))\n",
        "        f_global[no_elements, 0] = force\n",
        "        u_global = np.zeros((no_elements+1, 1))\n",
        "        u_global[1:, 0] = np.linalg.solve(k_global[1:, 1:],f_global[1:, 0])\n",
        "        f_global = k_global*u_global\n",
        "        return u_global[0:, 0]\n",
        "\n",
        "    def Exact(self, length, force, x):\n",
        "        if(x.any()<=length):\n",
        "            return force*x/self.AE()\n",
        "        else:\n",
        "            return x*0\n",
        "\n",
        "\n",
        "Es = np.random.normal(mu, sigma, batch_size)\n",
        "fems= []\n",
        "exacts = []\n",
        "errors = []\n",
        "for i in range(0, batch_size):\n",
        "    bi = beam()\n",
        "    bi.set_E(Es[i])\n",
        "    fem = bi._1DFEM(bi.length, bi.no_elements, bi.force)\n",
        "    exact = bi.Exact(bi.length, bi.force, bi.x)\n",
        "    fem_a = fem[-1]\n",
        "    exact_a = exact[-1]\n",
        "    error = (abs(fem_a-exact_a)/exact_a)*100\n",
        "    fems.append(fem_a)\n",
        "    exacts.append(exact_a)\n",
        "    errors.append(error)\n",
        "\n",
        "df = pd.DataFrame({'Sl. No.': range(1, batch_size+1), 'E':Es, 'By FEM': fems, 'Exact results': exacts, 'Errors':errors})\n",
        "\n",
        "with open('data.csv', 'w') as f:\n",
        "    f.write(df.to_csv(index=False))\n",
        "f.close()\n",
        "\n",
        "files.download('data.csv') "
      ],
      "execution_count": 0,
      "outputs": []
    },
    {
      "cell_type": "code",
      "metadata": {
        "id": "_H-GYukDC3nd",
        "colab_type": "code",
        "outputId": "4dfc79eb-6687-4276-fcc1-6e9e1c2c636f",
        "colab": {
          "base_uri": "https://localhost:8080/",
          "height": 460
        }
      },
      "source": [
        "# import numpy as np\n",
        "# import scipy as sp\n",
        "# from scipy.stats import norm\n",
        "# import matplotlib as mpl\n",
        "# import matplotlib.pyplot as plt\n",
        "# import math\n",
        "\n",
        "mu = 1000\n",
        "sigma = 100\n",
        "batch_size = 1000\n",
        "\n",
        "Es = np.random.normal(mu, sigma, batch_size)\n",
        "# # Es.s\n",
        "# minE = min(Es)\n",
        "# maxE = max(Es)\n",
        "# freq = {} \n",
        "# for i in range(0, int(np.ceil((maxE-minE)/sigma))):\n",
        "#     try:\n",
        "#         freq[int(np.ceil((Es[i]-minE)/sigma))]+=1\n",
        "#     except KeyError:\n",
        "#         freq[int(np.ceil((Es[i]-minE)/sigma))]=1\n",
        "# width = sigma\n",
        "# plt.bar(freq.keys(), freq.values(), width, color='g')\n",
        "\n",
        "\n",
        "# fig, axs = plt.subplots(1, 2, sharey=True, tight_layout=True)\n",
        "\n",
        "# # We can set the number of bins with the `bins` kwarg\n",
        "# axs[0].hist(, bins=n_bins)\n",
        "# axs[1].hist(y, bins=n_bins)\n",
        "\n",
        "\n",
        "import matplotlib.pyplot as plt\n",
        "%matplotlib inline\n",
        "from google.colab import files\n",
        "\n",
        "plt.rcParams.update({'figure.figsize':(7,5), 'figure.dpi':100})\n",
        "\n",
        "# Plot Histogram on x\n",
        "x = np.random.normal(mu, sigma, batch_size)\n",
        "x.sort()\n",
        "plt.hist(x, bins=50)\n",
        "plt.gca().set(title='Frequency Histogram', ylabel='Frequency')\n",
        "plt.savefig('plot.jpg')\n",
        "files.download('plot.jpg')\n"
      ],
      "execution_count": 0,
      "outputs": [
        {
          "output_type": "display_data",
          "data": {
            "image/png": "[encoded data removed]",
            "text/plain": [
              "<Figure size 700x500 with 1 Axes>"
            ]
          },
          "metadata": {
            "tags": []
          }
        }
      ]
    },
    {
      "cell_type": "code",
      "metadata": {
        "id": "pgVsRIjYz-NB",
        "colab_type": "code",
        "outputId": "2e419cc0-6536-4ac6-81a6-0903408849d0",
        "colab": {
          "base_uri": "https://localhost:8080/",
          "height": 85
        }
      },
      "source": [
        "import numpy as np\n",
        "import scipy as sp\n",
        "from scipy.stats import norm\n",
        "import matplotlib as mpl\n",
        "import matplotlib.pyplot as plt\n",
        "import math\n",
        "\n",
        "\n",
        "length = 100\n",
        "no_elements = 10\n",
        "force = 1\n",
        "# x = np.arange(0, length, length/no_elements)\n",
        "# print(x)\n",
        "# print(len(x))\n",
        "# print(x.shape)\n",
        "# x = np.insert(x, no_elements, length)\n",
        "x=range(0, no_elements+1)\n",
        "# print(x)\n",
        "# print(len(x))\n",
        "# print(x.shape)\n",
        "# _i = np.vectorize(int)\n",
        "# print(_i(np.floor(x/length)))\n",
        "\n",
        "def _AE(x):\n",
        "    # return 100.0\n",
        "    mu, sigma = 1000000000, 0.1 # mean and standard deviation\n",
        "    E = np.random.normal(mu, sigma, no_elements+1)\n",
        "    A=0.0001\n",
        "    L=length\n",
        "    # x=int(np.floor(x))/L\n",
        "    return A*E[x]/L\n",
        "\n",
        "AE = np.vectorize(_AE)\n",
        "\n",
        "print(AE(x))\n",
        "\n",
        "print(np.floor(33.55))"
      ],
      "execution_count": 0,
      "outputs": [
        {
          "output_type": "stream",
          "text": [
            "[1000.00000006  999.99999996 1000.00000001 1000.00000009 1000.00000006\n",
            " 1000.00000007  999.99999989 1000.00000015 1000.00000011  999.99999988\n",
            "  999.99999984]\n",
            "33.0\n"
          ],
          "name": "stdout"
        }
      ]
    },
    {
      "cell_type": "code",
      "metadata": {
        "id": "aH0pUcUB14CB",
        "colab_type": "code",
        "outputId": "7fc6297c-4a04-4e62-e73e-7c50c75d5328",
        "colab": {
          "base_uri": "https://localhost:8080/",
          "height": 51
        }
      },
      "source": [
        "import numpy as np\n",
        "\n",
        "a = [33.5, 44.3, 98.8]\n",
        "print(np.floor(a))\n",
        "print(a)\n",
        "# print(int(np.floor(a)))"
      ],
      "execution_count": 0,
      "outputs": [
        {
          "output_type": "stream",
          "text": [
            "[33. 44. 98.]\n",
            "[33.5, 44.3, 98.8]\n"
          ],
          "name": "stdout"
        }
      ]
    },
    {
      "cell_type": "code",
      "metadata": {
        "id": "qyDMy5N1keQm",
        "colab_type": "code",
        "outputId": "be2ee46d-0a5e-4afb-e9b3-d5367d68c464",
        "colab": {
          "base_uri": "https://localhost:8080/",
          "height": 334
        }
      },
      "source": [
        "import numpy as np\n",
        "b=np.array([[1, -1],[-1,1]])\n",
        "print(b)\n",
        "no_elements=3\n",
        "a = np.zeros((no_elements, no_elements))\n",
        "aa = np.zeros((1, no_elements+1))\n",
        "print(aa)\n",
        "print(a[0:2, 0:2])\n",
        "print(a)\n",
        "for i in range(0, no_elements):\n",
        "    # print('a')\n",
        "    a[i:i+2,i:i+2]+=b"
      ],
      "execution_count": 0,
      "outputs": [
        {
          "output_type": "stream",
          "text": [
            "[[ 1 -1]\n",
            " [-1  1]]\n",
            "[[0. 0. 0. 0.]]\n",
            "[[0. 0.]\n",
            " [0. 0.]]\n",
            "[[0. 0. 0.]\n",
            " [0. 0. 0.]\n",
            " [0. 0. 0.]]\n"
          ],
          "name": "stdout"
        },
        {
          "output_type": "error",
          "ename": "ValueError",
          "evalue": "ignored",
          "traceback": [
            "\u001b[0;31m---------------------------------------------------------------------------\u001b[0m",
            "\u001b[0;31mValueError\u001b[0m                                Traceback (most recent call last)",
            "\u001b[0;32m<ipython-input-50-78cc92792c3b>\u001b[0m in \u001b[0;36m<module>\u001b[0;34m()\u001b[0m\n\u001b[1;32m     10\u001b[0m \u001b[0;32mfor\u001b[0m \u001b[0mi\u001b[0m \u001b[0;32min\u001b[0m \u001b[0mrange\u001b[0m\u001b[0;34m(\u001b[0m\u001b[0;36m0\u001b[0m\u001b[0;34m,\u001b[0m \u001b[0mno_elements\u001b[0m\u001b[0;34m)\u001b[0m\u001b[0;34m:\u001b[0m\u001b[0;34m\u001b[0m\u001b[0;34m\u001b[0m\u001b[0m\n\u001b[1;32m     11\u001b[0m     \u001b[0;31m# print('a')\u001b[0m\u001b[0;34m\u001b[0m\u001b[0;34m\u001b[0m\u001b[0;34m\u001b[0m\u001b[0m\n\u001b[0;32m---> 12\u001b[0;31m     \u001b[0ma\u001b[0m\u001b[0;34m[\u001b[0m\u001b[0mi\u001b[0m\u001b[0;34m:\u001b[0m\u001b[0mi\u001b[0m\u001b[0;34m+\u001b[0m\u001b[0;36m2\u001b[0m\u001b[0;34m,\u001b[0m\u001b[0mi\u001b[0m\u001b[0;34m:\u001b[0m\u001b[0mi\u001b[0m\u001b[0;34m+\u001b[0m\u001b[0;36m2\u001b[0m\u001b[0;34m]\u001b[0m\u001b[0;34m+=\u001b[0m\u001b[0mb\u001b[0m\u001b[0;34m\u001b[0m\u001b[0;34m\u001b[0m\u001b[0m\n\u001b[0m",
            "\u001b[0;31mValueError\u001b[0m: non-broadcastable output operand with shape (1,1) doesn't match the broadcast shape (2,2)"
          ]
        }
      ]
    },
    {
      "cell_type": "code",
      "metadata": {
        "id": "JDcFiyErPIGP",
        "colab_type": "code",
        "outputId": "24feb0f9-707b-48f7-bfa7-df8c0b2b0826",
        "colab": {
          "base_uri": "https://localhost:8080/",
          "height": 136
        }
      },
      "source": [
        "import numpy as np\n",
        "print(3*np.array([[1],[2], [3]]))\n",
        "b=np.array([[1, -1],[-1,1]])\n",
        "no_elements=3\n",
        "a = np.zeros((no_elements+1, no_elements+1))\n",
        "for i in range(0, no_elements):\n",
        "    a[i:i+2,i:i+2]+=b\n",
        "print(a[1:, 1:])\n",
        "f_global = np.zeros((1, no_elements+1))\n",
        "print(f_global)"
      ],
      "execution_count": 0,
      "outputs": [
        {
          "output_type": "stream",
          "text": [
            "[[3]\n",
            " [6]\n",
            " [9]]\n",
            "[[ 2. -1.  0.]\n",
            " [-1.  2. -1.]\n",
            " [ 0. -1.  1.]]\n",
            "[[0. 0. 0. 0.]]\n"
          ],
          "name": "stdout"
        }
      ]
    },
    {
      "cell_type": "code",
      "metadata": {
        "id": "9vsmZlMAWSKj",
        "colab_type": "code",
        "outputId": "964be80d-1517-4104-d730-31ea7efe10a3",
        "colab": {
          "base_uri": "https://localhost:8080/",
          "height": 293
        }
      },
      "source": [
        "import matplotlib.pyplot as plt\n",
        "import numpy as np\n",
        "l=10\n",
        "x = np.arange(0, l, 0.5)\n",
        "a=0.0001\n",
        "b=100\n",
        "y =  a/(a*x+b)\n",
        "plt.plot(x, y, 'ro-')\n"
      ],
      "execution_count": 0,
      "outputs": [
        {
          "output_type": "execute_result",
          "data": {
            "text/plain": [
              "[<matplotlib.lines.Line2D at 0x7f81d065d4e0>]"
            ]
          },
          "metadata": {
            "tags": []
          },
          "execution_count": 46
        },
        {
          "output_type": "display_data",
          "data": {
            "image/png": "[encoded data removed]",
            "text/plain": [
              "<Figure size 432x288 with 1 Axes>"
            ]
          },
          "metadata": {
            "tags": []
          }
        }
      ]
    },
    {
      "cell_type": "code",
      "metadata": {
        "id": "TDLcwWL6o1e5",
        "colab_type": "code",
        "outputId": "0b705002-16bc-49d7-bb26-7ea36cbee0ab",
        "colab": {
          "base_uri": "https://localhost:8080/",
          "height": 249
        }
      },
      "source": [
        "import numpy as np\n",
        "a = np.array([1, 2, 3])\n",
        "a = np.insert(a, 3, 0)\n",
        "print(a)\n",
        "print(np.zeros((9, 1)).shape)\n",
        "# print(np.zeros(1, 9).shape())\n",
        "a = {}\n",
        "for i in range(0, 10):\n",
        "    \n",
        "print(a)"
      ],
      "execution_count": 0,
      "outputs": [
        {
          "output_type": "stream",
          "text": [
            "[1 2 3 0]\n",
            "(9, 1)\n"
          ],
          "name": "stdout"
        },
        {
          "output_type": "error",
          "ename": "KeyError",
          "evalue": "ignored",
          "traceback": [
            "\u001b[0;31m---------------------------------------------------------------------------\u001b[0m",
            "\u001b[0;31mKeyError\u001b[0m                                  Traceback (most recent call last)",
            "\u001b[0;32m<ipython-input-1-f8203500cb76>\u001b[0m in \u001b[0;36m<module>\u001b[0;34m()\u001b[0m\n\u001b[1;32m      6\u001b[0m \u001b[0;31m# print(np.zeros(1, 9).shape())\u001b[0m\u001b[0;34m\u001b[0m\u001b[0;34m\u001b[0m\u001b[0;34m\u001b[0m\u001b[0m\n\u001b[1;32m      7\u001b[0m \u001b[0ma\u001b[0m \u001b[0;34m=\u001b[0m \u001b[0;34m{\u001b[0m\u001b[0;34m}\u001b[0m\u001b[0;34m\u001b[0m\u001b[0;34m\u001b[0m\u001b[0m\n\u001b[0;32m----> 8\u001b[0;31m \u001b[0ma\u001b[0m\u001b[0;34m[\u001b[0m\u001b[0;36m33\u001b[0m\u001b[0;34m]\u001b[0m\u001b[0;34m+=\u001b[0m\u001b[0;36m1\u001b[0m\u001b[0;34m\u001b[0m\u001b[0;34m\u001b[0m\u001b[0m\n\u001b[0m\u001b[1;32m      9\u001b[0m \u001b[0mprint\u001b[0m\u001b[0;34m(\u001b[0m\u001b[0ma\u001b[0m\u001b[0;34m)\u001b[0m\u001b[0;34m\u001b[0m\u001b[0;34m\u001b[0m\u001b[0m\n",
            "\u001b[0;31mKeyError\u001b[0m: 33"
          ]
        }
      ]
    }
  ]
}